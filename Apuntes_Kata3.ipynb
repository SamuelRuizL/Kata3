{
 "cells": [
  {
   "cell_type": "code",
   "execution_count": null,
   "metadata": {},
   "outputs": [],
   "source": []
  },
  {
   "cell_type": "markdown",
   "metadata": {},
   "source": [
    "# Usar logica booleana"
   ]
  },
  {
   "cell_type": "markdown",
   "metadata": {},
   "source": [
    "Expresiones de prueba"
   ]
  },
  {
   "cell_type": "code",
   "execution_count": 8,
   "metadata": {},
   "outputs": [],
   "source": [
    "#Practica 1\n",
    "a=97\n",
    "b=55\n",
    "#Expresion de prueba\n",
    "if a<b:\n",
    "    #Instruccion de ejecutra\n",
    "    print(b)"
   ]
  },
  {
   "cell_type": "markdown",
   "metadata": {},
   "source": [
    "Escribir declaraciones"
   ]
  },
  {
   "cell_type": "code",
   "execution_count": 9,
   "metadata": {},
   "outputs": [
    {
     "name": "stdout",
     "output_type": "stream",
     "text": [
      "93\n"
     ]
    }
   ],
   "source": [
    "#Practica 2\n",
    "# if expresion_prueba:\n",
    "a=93\n",
    "b=27\n",
    "if a>= b:\n",
    "    print(a)\n",
    "#A la letra 'a' le asigno el valor de 93.\n",
    "#A la letra 'b' le asigno el valor de 27.\n",
    "#SI a(93) es mayor o igual a b(27) entonces:\n",
    "#Muestra (print) el valor de a(93)"
   ]
  },
  {
   "cell_type": "code",
   "execution_count": 22,
   "metadata": {},
   "outputs": [
    {
     "name": "stdout",
     "output_type": "stream",
     "text": [
      "27\n"
     ]
    }
   ],
   "source": [
    "#Practica 3\n",
    "a=93\n",
    "b=27\n",
    "if a <=0:\n",
    "    print(a)\n",
    "print(b)"
   ]
  },
  {
   "cell_type": "markdown",
   "metadata": {},
   "source": [
    "Trabajando con else"
   ]
  },
  {
   "cell_type": "code",
   "execution_count": 23,
   "metadata": {},
   "outputs": [
    {
     "name": "stdout",
     "output_type": "stream",
     "text": [
      "27\n"
     ]
    }
   ],
   "source": [
    "#Practica 4\n",
    "a=93\n",
    "b=27\n",
    "if a <=0:\n",
    "    print(a)\n",
    "else:\n",
    "    print(b)\n",
    "\n",
    "#if expresion_prueba:\n",
    "    # instrucción(es) a ejecutar\n",
    "#else:\n",
    "    # instrucción(es) a ejecutar\n",
    "#Es lo contrario?"
   ]
  },
  {
   "cell_type": "markdown",
   "metadata": {},
   "source": [
    "Trabajando con elif"
   ]
  },
  {
   "cell_type": "code",
   "execution_count": 24,
   "metadata": {},
   "outputs": [
    {
     "name": "stdout",
     "output_type": "stream",
     "text": [
      "a es mayor que b\n"
     ]
    }
   ],
   "source": [
    "#Practica 5\n",
    "a=93\n",
    "b=27\n",
    "if a>=b:\n",
    "    print(\"a es mayor que b\")\n",
    "elif a==b:\n",
    "    print(\"a es igual que b\")\n",
    "#Es otra opcion?\n",
    "\n",
    "#if expresion_prueba:\n",
    "    # instrucción(es) a ejecutar\n",
    "#elif expresion_prueba:\n",
    "    # instrucción(es) a ejecutar"
   ]
  },
  {
   "cell_type": "markdown",
   "metadata": {},
   "source": [
    "Combinar declaraciones"
   ]
  },
  {
   "cell_type": "code",
   "execution_count": 29,
   "metadata": {},
   "outputs": [
    {
     "name": "stdout",
     "output_type": "stream",
     "text": [
      "a es igual que b\n"
     ]
    }
   ],
   "source": [
    "a=27\n",
    "b=27\n",
    "if a>b:\n",
    "    print(\"a es mayor que b\")\n",
    "elif a<b:\n",
    "    print(\"a es menor que b\")\n",
    "else:\n",
    "    print(\"a es igual que b\")\n",
    "\n",
    "\n",
    "#if expresion_prueba:\n",
    "    # instrucción(es) a ejecutar\n",
    "#elif expresion_prueba:\n",
    "    # instrucción(es) a ejecutar\n",
    "#elif expresion_prueba:\n",
    "    # instrucción(es) a ejecutar\n",
    "#else:\n",
    "    # instrucción(es) a ejecutar"
   ]
  },
  {
   "cell_type": "markdown",
   "metadata": {},
   "source": [
    "Trabajar con logica condicional anidada"
   ]
  },
  {
   "cell_type": "code",
   "execution_count": 35,
   "metadata": {},
   "outputs": [
    {
     "name": "stdout",
     "output_type": "stream",
     "text": [
      "a es menor que b\n"
     ]
    }
   ],
   "source": [
    "a=16\n",
    "b=25\n",
    "c=27\n",
    "if a>c:\n",
    "    if b<c:\n",
    "        print(\"a es mayor que b y b es mayor que c\")\n",
    "    else:\n",
    "        print(\"a es mayor que b y menor que c\")\n",
    "elif a==b:\n",
    "    print(\"a es igual que b\")\n",
    "else:\n",
    "    print(\"a es menor que b\")\n",
    "\n",
    "\n",
    "#if expresion_prueba:\n",
    "    # instrucción(es) a ejecutar\n",
    "    #if expresion_prueba:\n",
    "        # instrucción(es) a ejecutar\n",
    "    #else: \n",
    "        # instrucción(es) a ejecutar\n",
    "#elif expresion_prueba:\n",
    "    # instrucción(es) a ejecutar\n",
    "    #if expresion_prueba:\n",
    "        # instrucción(es) a ejecutar\n",
    "    #else: \n",
    "        # instrucción(es) a ejecutar\n",
    "#else:\n",
    "    # instrucción(es) a ejecutar"
   ]
  },
  {
   "cell_type": "markdown",
   "metadata": {},
   "source": [
    "### Operadores 'and' y 'or'"
   ]
  },
  {
   "cell_type": "markdown",
   "metadata": {},
   "source": [
    "'or'"
   ]
  },
  {
   "cell_type": "code",
   "execution_count": 36,
   "metadata": {},
   "outputs": [
    {
     "name": "stdout",
     "output_type": "stream",
     "text": [
      "57\n"
     ]
    }
   ],
   "source": [
    "a=23\n",
    "b=34\n",
    "if a==34 or b==34:\n",
    "    print(a+b)\n",
    "\n",
    "#subexpresión1 or subexpresión2"
   ]
  },
  {
   "cell_type": "markdown",
   "metadata": {},
   "source": [
    "'and'"
   ]
  },
  {
   "cell_type": "code",
   "execution_count": 37,
   "metadata": {},
   "outputs": [],
   "source": [
    "a=23\n",
    "b=34\n",
    "if a==34 and b==34:\n",
    "    print(a+b)\n",
    "\n",
    "#subexpresión1 and subexpresión2"
   ]
  }
 ],
 "metadata": {
  "interpreter": {
   "hash": "411aac51dc38f2c4a94674f212437a5ffadf730acdefbd89c0fc3e71f4abdccd"
  },
  "kernelspec": {
   "display_name": "Python 3.10.2 64-bit",
   "language": "python",
   "name": "python3"
  },
  "language_info": {
   "codemirror_mode": {
    "name": "ipython",
    "version": 3
   },
   "file_extension": ".py",
   "mimetype": "text/x-python",
   "name": "python",
   "nbconvert_exporter": "python",
   "pygments_lexer": "ipython3",
   "version": "3.10.2"
  },
  "orig_nbformat": 4
 },
 "nbformat": 4,
 "nbformat_minor": 2
}
