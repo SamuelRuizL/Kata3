{
 "cells": [
  {
   "cell_type": "markdown",
   "metadata": {},
   "source": [
    "# Ejercicio - Escribir declaraciones if, else, y elif"
   ]
  },
  {
   "cell_type": "markdown",
   "metadata": {},
   "source": [
    "### Ejercicio 1"
   ]
  },
  {
   "cell_type": "code",
   "execution_count": 7,
   "metadata": {},
   "outputs": [
    {
     "name": "stdout",
     "output_type": "stream",
     "text": [
      "ADVERTENCIA: Velocidad del asteroide excede el limite\n"
     ]
    }
   ],
   "source": [
    "velasteroide = 49\n",
    "if velasteroide > 25:\n",
    "    print (\"ADVERTENCIA: Velocidad del asteroide excede el limite.\")\n",
    "else:\n",
    "    print (\"Velocidad del asteroide normal.\")\n",
    "\n",
    "#Si velasteroide es mayor a 25 (true)\n",
    "    #Mostrara en pantalla \"ADVERTENCIA: Velocidad del asteroide excede el limite\"\n",
    "#Pero si no (false)\n",
    "    #Mostrara en pantalla \"Velocidad del asteroide normal\""
   ]
  },
  {
   "cell_type": "markdown",
   "metadata": {},
   "source": [
    "### Ejercicio 2"
   ]
  },
  {
   "cell_type": "code",
   "execution_count": 13,
   "metadata": {},
   "outputs": [
    {
     "name": "stdout",
     "output_type": "stream",
     "text": [
      "Velocidad del asteroide normal, sin anomalias\n"
     ]
    }
   ],
   "source": [
    "velasteroide = 19\n",
    "if velasteroide > 25:\n",
    "    print (\"ADVERTENCIA: ¡Velocidad del asteroide excede el limite!\")\n",
    "elif velasteroide>=20:\n",
    "    print (\"¡MIRA! Puedes observar el rayo de luz que dejo el asteroide\")\n",
    "else:\n",
    "    print(\"Velocidad del asteroide normal, sin anomalias.\")\n",
    "\n",
    "#Si velasteroide es mayor o 25\n",
    "    #Mostrara en pantalla \"ADVERTENCIA: Velocidad del asteroide excede el limite\"\n",
    "#Ahora, si es mayor o igual a 20\n",
    "    #Mostrara en pantalla \"¡MIRA! Puedes observar el rayo de luz que dejo el asteroide\"\n",
    "#Pero si no (y es menor a 20)\n",
    "    #Mostrara en pantalla \"Velocidad del asteroide normal, sin anomalias\""
   ]
  },
  {
   "cell_type": "markdown",
   "metadata": {},
   "source": [
    "# Ejercicio: Uso de operadores and y or"
   ]
  },
  {
   "cell_type": "markdown",
   "metadata": {},
   "source": [
    "### Ejercicio 1 (3) (Prueba mia)"
   ]
  },
  {
   "cell_type": "code",
   "execution_count": 8,
   "metadata": {},
   "outputs": [
    {
     "name": "stdout",
     "output_type": "stream",
     "text": [
      "¡MIRA! Puedes observar el rayo de luz que dejo el asteroide\n"
     ]
    }
   ],
   "source": [
    "velasteroide = 25\n",
    "tamasteroide = 40\n",
    "#Si mide menos de 25 metros en su dimension mas grande se desintegran.\n",
    "#Si mide mas de 25 metros pero es mas pequeña que 1,000 metros, golpeara la tierra y causara daño.\n",
    "if velasteroide > 25 and tamasteroide < 25:\n",
    "    print (\"ADVERTENCIA: Velocidad del asteroide excede el limite pero NO HAY PELIGRO\")\n",
    "elif velasteroide > 25 and tamasteroide > 25 and tamasteroide < 1000:\n",
    "    print (\"ADVERTENCIA: Velocidad del asteroide excede el limite PELIGRO INMINENTE\")\n",
    "elif velasteroide>=20:\n",
    "    print (\"¡MIRA! Puedes observar el rayo de luz que dejo el asteroide\")\n",
    "else:\n",
    "    print(\"Velocidad del asteroide normal, sin anomalias.\")\n",
    "#Si velasteroide es mayor a 25 y tamasteroide es menor a 25\n",
    "    #Va rapido pero no hay peligro\n",
    "#Si velasteroide es mayor a 25 y tamasteroide es mayor a 25 y menor a 1000\n",
    "    #Va rapido y es peligroso\n",
    "#Si velasteroide es menor o igual a 20\n",
    "    #Se puede ver el rayo de luz\n",
    "#Si no entonces\n",
    "    #No hay anomalias\n"
   ]
  },
  {
   "cell_type": "markdown",
   "metadata": {},
   "source": [
    "### Ejercicio 1 (3) (Solucion)"
   ]
  },
  {
   "cell_type": "code",
   "execution_count": 6,
   "metadata": {},
   "outputs": [
    {
     "name": "stdout",
     "output_type": "stream",
     "text": [
      "Look up! ¡Hay una luz mágica en el cielo!\n"
     ]
    }
   ],
   "source": [
    "velocidad_asteroide = 25\n",
    "tamano_asteroide = 40\n",
    "if velocidad_asteroide > 25 and tamano_asteroide > 25:\n",
    "    print('¡Alerta, Un asteroide muy peligroso viene hacia la Tierra!')\n",
    "elif velocidad_asteroide >= 20:\n",
    "    print('Look up! ¡Hay una luz mágica en el cielo!')\n",
    "elif tamano_asteroide < 25:\n",
    "    print('Nada que ver aquí :)')\n",
    "else:\n",
    "    print('Nada que ver aquí :)')"
   ]
  }
 ],
 "metadata": {
  "interpreter": {
   "hash": "411aac51dc38f2c4a94674f212437a5ffadf730acdefbd89c0fc3e71f4abdccd"
  },
  "kernelspec": {
   "display_name": "Python 3.10.2 64-bit",
   "language": "python",
   "name": "python3"
  },
  "language_info": {
   "codemirror_mode": {
    "name": "ipython",
    "version": 3
   },
   "file_extension": ".py",
   "mimetype": "text/x-python",
   "name": "python",
   "nbconvert_exporter": "python",
   "pygments_lexer": "ipython3",
   "version": "3.10.2"
  },
  "orig_nbformat": 4
 },
 "nbformat": 4,
 "nbformat_minor": 2
}
